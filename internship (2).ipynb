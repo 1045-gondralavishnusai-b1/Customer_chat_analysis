{
 "cells": [
  {
   "cell_type": "code",
   "execution_count": 1,
   "metadata": {},
   "outputs": [],
   "source": [
    "\n",
    "\n",
    "import mysql.connector\n",
    "from mysql.connector import Error\n"
   ]
  },
  {
   "cell_type": "code",
   "execution_count": 2,
   "metadata": {},
   "outputs": [
    {
     "name": "stdout",
     "output_type": "stream",
     "text": [
      "Mysql connection was successfull\n"
     ]
    }
   ],
   "source": [
    "def create_server_connection(host_name,user_name,user_password):\n",
    "\tconnection=None\n",
    "\ttry:\n",
    "\t\tconnection=mysql.connector.connect(host=host_name,user=user_name,password=user_password)\n",
    "\t\tprint(\"Mysql connection was successfull\")\n",
    "\texcept Error as err:\n",
    "\t\tprint(f\"Error:'{err}'\")\n",
    "\treturn connection\n",
    "pw=\"root\"\n",
    "db=\"intern\" #write your database name\n",
    "connection=create_server_connection(\"localhost\",\"root\",\"root\")"
   ]
  },
  {
   "cell_type": "code",
   "execution_count": 11,
   "metadata": {},
   "outputs": [
    {
     "name": "stdout",
     "output_type": "stream",
     "text": [
      "Database Create successfully\n"
     ]
    }
   ],
   "source": [
    "def create_database(connection,query):\n",
    " \tcursor=connection.cursor()\n",
    " \ttry:\n",
    " \t\tcursor.execute(query)\n",
    " \t\tprint(\"Database Create successfully\")\n",
    " \texcept Error as err:\n",
    " \t\tprint(f\"Error: '{err}'\")\n",
    "create_database_query=\"create database intern\"\n",
    "create_database(connection,create_database_query)"
   ]
  },
  {
   "cell_type": "code",
   "execution_count": 3,
   "metadata": {},
   "outputs": [],
   "source": [
    "def create_db_connection(host_name,user_name,user_password,db_name):\n",
    "\tconnection=None\n",
    "\ttry:\n",
    "\t\tconnection=mysql.connector.connect(host=host_name,user=user_name,password=user_password,database=db_name)\n",
    "\t\t\n",
    "\texcept Error as err:\n",
    "\t\tprint(f\"Error: '{err}'\")\n",
    "\treturn connection"
   ]
  },
  {
   "cell_type": "code",
   "execution_count": 4,
   "metadata": {},
   "outputs": [],
   "source": [
    "def execute_query(connection,query):\n",
    "\tcursor=connection.cursor()\n",
    "\ttry:\n",
    "\t\tcursor.execute(query)\n",
    "\t\tconnection.commit()\n",
    "\t\tprint(\"query was successfull\")\n",
    "\texcept Error as err:\n",
    "\t\tprint(f\"Error: '{err}'\")"
   ]
  },
  {
   "cell_type": "code",
   "execution_count": 5,
   "metadata": {},
   "outputs": [],
   "source": [
    "def read_query(connection,query):\n",
    "\tcursor=connection.cursor()\n",
    "\tresult=None\n",
    "\ttry:\n",
    "\t\tcursor.execute(query)\n",
    "\t\tresult=cursor.fetchall()\n",
    "\t\treturn result\n",
    "\texcept Error as err:\n",
    "\t\tprint(f\"Error : '{err}'\")"
   ]
  },
  {
   "cell_type": "code",
   "execution_count": 6,
   "metadata": {},
   "outputs": [
    {
     "name": "stdout",
     "output_type": "stream",
     "text": [
      "(105, 'sai', 'water bottles', datetime.date(2019, 1, 4), datetime.date(2019, 1, 10), 32, 5, 'M')\n",
      "(115, 'sona', 'watch', datetime.date(2019, 5, 5), datetime.date(2019, 5, 14), 15, 1, 'F')\n",
      "(121, 'arun', 'perfume', datetime.date(2019, 11, 5), datetime.date(2019, 11, 10), 25, 5, 'M')\n",
      "(122, 'balu', 'watch', datetime.date(2020, 2, 13), datetime.date(2020, 2, 20), 20, 4, 'M')\n",
      "(128, 'kumar', 'perfume', datetime.date(2019, 10, 5), datetime.date(2019, 10, 15), 30, 2, 'M')\n",
      "(129, 'suresh', 'water bottles', datetime.date(2019, 6, 15), datetime.date(2019, 6, 21), 25, 4, 'M')\n",
      "(134, 'shanu', 'mask', datetime.date(2019, 12, 14), datetime.date(2019, 12, 20), 30, 5, 'M')\n",
      "(135, 'megha', 'mask', datetime.date(2020, 3, 5), datetime.date(2020, 3, 10), 16, 2, 'F')\n",
      "(140, 'karuna', 'watch', datetime.date(2020, 12, 5), datetime.date(2020, 12, 11), 24, 3, 'F')\n",
      "(142, 'natraj', 'perfume', datetime.date(2019, 4, 25), datetime.date(2019, 4, 30), 34, 2, 'M')\n",
      "(145, 'pallavi', 'mask', datetime.date(2020, 6, 7), datetime.date(2020, 6, 15), 32, 5, 'F')\n",
      "(147, 'ravi', 'mask', datetime.date(2020, 2, 13), datetime.date(2020, 2, 19), 26, 5, 'M')\n",
      "(148, 'raju', 'perfume', datetime.date(2019, 8, 10), datetime.date(2019, 8, 15), 19, 3, 'M')\n",
      "(150, 'mahi', 'handwash', datetime.date(2019, 11, 12), datetime.date(2019, 11, 20), 26, 1, 'M')\n",
      "(151, 'vamsi', 'perfume', datetime.date(2020, 1, 2), datetime.date(2020, 1, 10), 35, 3, 'M')\n",
      "(152, 'thanu', 'lipstick', datetime.date(2019, 4, 13), datetime.date(2019, 4, 20), 21, 5, 'F')\n",
      "(154, 'ramesh', 'perfume', datetime.date(2020, 1, 25), datetime.date(2020, 1, 30), 21, 5, 'M')\n",
      "(164, 'lahari', 'mask', datetime.date(2020, 4, 5), datetime.date(2020, 4, 13), 24, 4, 'F')\n",
      "(169, 'abhi', 'mask', datetime.date(2020, 4, 3), datetime.date(2020, 4, 10), 19, 1, 'M')\n",
      "(170, 'vicky', 'watch', datetime.date(2019, 12, 12), datetime.date(2019, 12, 16), 20, 2, 'M')\n",
      "(174, 'anshu', 'sanitizer', datetime.date(2020, 3, 1), datetime.date(2020, 3, 7), 30, 4, 'F')\n"
     ]
    }
   ],
   "source": [
    "q1=\"\"\"\n",
    "select * from customer_details;\n",
    "\"\"\"\n",
    "connection=create_db_connection(\"localhost\",\"root\",pw,db)\n",
    "results=read_query(connection,q1)\n",
    "for result in results:\n",
    "\tprint(result)\n"
   ]
  },
  {
   "cell_type": "code",
   "execution_count": 7,
   "metadata": {},
   "outputs": [
    {
     "name": "stdout",
     "output_type": "stream",
     "text": [
      "Excellent review\n",
      "('sai', 5)\n",
      "('arun', 5)\n",
      "('shanu', 5)\n",
      "('pallavi', 5)\n",
      "('ravi', 5)\n",
      "('thanu', 5)\n",
      "('ramesh', 5)\n"
     ]
    }
   ],
   "source": [
    "\n",
    "q2=\"\"\"\n",
    "select cname,review  from customer_details where review=5;\n",
    "\"\"\"\n",
    "connection=create_db_connection(\"localhost\",\"root\",pw,db)\n",
    "result1=read_query(connection,q2)\n",
    "print('Excellent review')\n",
    "for result in result1:\n",
    "\tprint(result)\n"
   ]
  },
  {
   "cell_type": "code",
   "execution_count": 8,
   "metadata": {},
   "outputs": [
    {
     "name": "stdout",
     "output_type": "stream",
     "text": [
      "good review\n",
      "('balu', 4)\n",
      "('suresh', 4)\n",
      "('lahari', 4)\n",
      "('anshu', 4)\n"
     ]
    }
   ],
   "source": [
    "q3=\"\"\"\n",
    "select cname,review  from customer_details where review=4;\n",
    "\"\"\"\n",
    "connection=create_db_connection(\"localhost\",\"root\",pw,db)\n",
    "result1=read_query(connection,q3)\n",
    "print('good review')\n",
    "for result in result1:\n",
    "\tprint(result)"
   ]
  },
  {
   "cell_type": "code",
   "execution_count": 9,
   "metadata": {},
   "outputs": [
    {
     "name": "stdout",
     "output_type": "stream",
     "text": [
      "Average review\n",
      "('karuna', 3)\n",
      "('raju', 3)\n",
      "('vamsi', 3)\n"
     ]
    }
   ],
   "source": [
    "\n",
    "q4=\"\"\"\n",
    "select cname,review  from customer_details where review=3;\n",
    "\"\"\"\n",
    "connection=create_db_connection(\"localhost\",\"root\",pw,db)\n",
    "result1=read_query(connection,q4)\n",
    "print('Average review')\n",
    "for result in result1:\n",
    "\tprint(result)"
   ]
  },
  {
   "cell_type": "code",
   "execution_count": 10,
   "metadata": {},
   "outputs": [
    {
     "name": "stdout",
     "output_type": "stream",
     "text": [
      "Below Average review\n",
      "('kumar', 2)\n",
      "('megha', 2)\n",
      "('natraj', 2)\n",
      "('vicky', 2)\n"
     ]
    }
   ],
   "source": [
    "q5=\"\"\"\n",
    "select cname,review  from customer_details where review=2;\n",
    "\"\"\"\n",
    "connection=create_db_connection(\"localhost\",\"root\",pw,db)\n",
    "result1=read_query(connection,q5)\n",
    "print('Below Average review')\n",
    "for result in result1:\n",
    "\tprint(result)"
   ]
  },
  {
   "cell_type": "code",
   "execution_count": 11,
   "metadata": {},
   "outputs": [
    {
     "name": "stdout",
     "output_type": "stream",
     "text": [
      "Poor review\n",
      "('sona', 1)\n",
      "('mahi', 1)\n",
      "('abhi', 1)\n"
     ]
    }
   ],
   "source": [
    "q6=\"\"\"\n",
    "select cname,review  from customer_details where review=1;\n",
    "\"\"\"\n",
    "connection=create_db_connection(\"localhost\",\"root\",pw,db)\n",
    "result1=read_query(connection,q6)\n",
    "print('Poor review')\n",
    "for result in result1:\n",
    "\tprint(result)"
   ]
  },
  {
   "cell_type": "code",
   "execution_count": 12,
   "metadata": {},
   "outputs": [
    {
     "name": "stdout",
     "output_type": "stream",
     "text": [
      "From Poor to Excellent review\n",
      "('sona', 1)\n",
      "('mahi', 1)\n",
      "('abhi', 1)\n",
      "('megha', 2)\n",
      "('vicky', 2)\n",
      "('kumar', 2)\n",
      "('natraj', 2)\n",
      "('raju', 3)\n",
      "('karuna', 3)\n",
      "('vamsi', 3)\n",
      "('lahari', 4)\n",
      "('suresh', 4)\n",
      "('balu', 4)\n",
      "('anshu', 4)\n",
      "('ramesh', 5)\n",
      "('thanu', 5)\n",
      "('ravi', 5)\n",
      "('pallavi', 5)\n",
      "('shanu', 5)\n",
      "('arun', 5)\n",
      "('sai', 5)\n"
     ]
    }
   ],
   "source": [
    "q7=\"\"\"\n",
    "select cname,review  from customer_details order by review;\n",
    "\"\"\"\n",
    "connection=create_db_connection(\"localhost\",\"root\",pw,db)\n",
    "result1=read_query(connection,q7 )\n",
    "print('From Poor to Excellent review')\n",
    "for result in result1:\n",
    "\tprint(result)\n"
   ]
  },
  {
   "cell_type": "code",
   "execution_count": 13,
   "metadata": {},
   "outputs": [
    {
     "name": "stdout",
     "output_type": "stream",
     "text": [
      "Review on Perfume\n",
      "('arun', 5)\n",
      "('kumar', 2)\n",
      "('natraj', 2)\n",
      "('raju', 3)\n",
      "('vamsi', 3)\n",
      "('ramesh', 5)\n"
     ]
    }
   ],
   "source": [
    "\n",
    "q8=\"\"\"\n",
    "select cname,review  from customer_details where pname='perfume';\n",
    "\"\"\"\n",
    "connection=create_db_connection(\"localhost\",\"root\",pw,db)\n",
    "result1=read_query(connection,q8 )\n",
    "print('Review on Perfume')\n",
    "for result in result1:\n",
    "\tprint(result)\n"
   ]
  },
  {
   "cell_type": "code",
   "execution_count": 14,
   "metadata": {},
   "outputs": [
    {
     "name": "stdout",
     "output_type": "stream",
     "text": [
      "Review on Water Bottle\n",
      "('sai', 5)\n",
      "('suresh', 4)\n"
     ]
    }
   ],
   "source": [
    "\n",
    "q9=\"\"\"\n",
    "select cname,review  from customer_details where pname='water bottles';\n",
    "\"\"\"\n",
    "connection=create_db_connection(\"localhost\",\"root\",pw,db)\n",
    "result1=read_query(connection,q9 )\n",
    "print('Review on Water Bottle')\n",
    "for result in result1:\n",
    "\tprint(result)"
   ]
  },
  {
   "cell_type": "code",
   "execution_count": 15,
   "metadata": {},
   "outputs": [
    {
     "name": "stdout",
     "output_type": "stream",
     "text": [
      "Review on Watch\n",
      "('sona', 1)\n",
      "('balu', 4)\n",
      "('karuna', 3)\n",
      "('vicky', 2)\n"
     ]
    }
   ],
   "source": [
    "q10=\"\"\"\n",
    "select cname,review  from customer_details where pname='watch';\n",
    "\"\"\"\n",
    "connection=create_db_connection(\"localhost\",\"root\",pw,db)\n",
    "result1=read_query(connection,q10 )\n",
    "print('Review on Watch')\n",
    "for result in result1:\n",
    "\tprint(result)\t\n"
   ]
  },
  {
   "cell_type": "code",
   "execution_count": 16,
   "metadata": {},
   "outputs": [
    {
     "name": "stdout",
     "output_type": "stream",
     "text": [
      "Review on mask\n",
      "('shanu', 5)\n",
      "('megha', 2)\n",
      "('pallavi', 5)\n",
      "('ravi', 5)\n",
      "('lahari', 4)\n",
      "('abhi', 1)\n"
     ]
    }
   ],
   "source": [
    "q11=\"\"\"\n",
    "select cname,review  from customer_details where pname='mask';\n",
    "\"\"\"\n",
    "connection=create_db_connection(\"localhost\",\"root\",pw,db)\n",
    "result1=read_query(connection,q11 )\n",
    "print('Review on mask')\n",
    "for result in result1:\n",
    "\tprint(result)\t"
   ]
  },
  {
   "cell_type": "code",
   "execution_count": 17,
   "metadata": {},
   "outputs": [
    {
     "name": "stdout",
     "output_type": "stream",
     "text": [
      "Review on sanitizer\n",
      "('anshu', 4)\n"
     ]
    }
   ],
   "source": [
    "q12=\"\"\"\n",
    "select cname,review  from customer_details where pname='sanitizer';\n",
    "\"\"\"\n",
    "connection=create_db_connection(\"localhost\",\"root\",pw,db)\n",
    "result1=read_query(connection,q12 )\n",
    "print('Review on sanitizer')\n",
    "for result in result1:\n",
    "\tprint(result)\t\n"
   ]
  },
  {
   "cell_type": "code",
   "execution_count": 18,
   "metadata": {},
   "outputs": [
    {
     "name": "stdout",
     "output_type": "stream",
     "text": [
      "Review on lipstick\n",
      "('thanu', 5)\n"
     ]
    }
   ],
   "source": [
    "q13=\"\"\"\n",
    "select cname,review  from customer_details where pname='lipstick';\n",
    "\"\"\"\n",
    "connection=create_db_connection(\"localhost\",\"root\",pw,db)\n",
    "result1=read_query(connection,q13 )\n",
    "print('Review on lipstick')\n",
    "for result in result1:\n",
    "\tprint(result)\t"
   ]
  },
  {
   "cell_type": "code",
   "execution_count": 19,
   "metadata": {},
   "outputs": [
    {
     "name": "stdout",
     "output_type": "stream",
     "text": [
      "Review on handwash\n",
      "('mahi', 1)\n"
     ]
    }
   ],
   "source": [
    "q14=\"\"\"\n",
    "select cname,review  from customer_details where pname='handwash';\n",
    "\"\"\"\n",
    "connection=create_db_connection(\"localhost\",\"root\",pw,db)\n",
    "result1=read_query(connection,q14 )\n",
    "print('Review on handwash')\n",
    "for result in result1:\n",
    "\tprint(result)\t"
   ]
  },
  {
   "cell_type": "code",
   "execution_count": 20,
   "metadata": {},
   "outputs": [
    {
     "name": "stdout",
     "output_type": "stream",
     "text": [
      "product review in the year of 2019\n",
      "('sai', 'water bottles', 5)\n",
      "('sona', 'watch', 1)\n",
      "('arun', 'perfume', 5)\n",
      "('kumar', 'perfume', 2)\n",
      "('suresh', 'water bottles', 4)\n",
      "('shanu', 'mask', 5)\n",
      "('natraj', 'perfume', 2)\n",
      "('raju', 'perfume', 3)\n",
      "('mahi', 'handwash', 1)\n",
      "('thanu', 'lipstick', 5)\n",
      "('vicky', 'watch', 2)\n"
     ]
    }
   ],
   "source": [
    "q15=\"\"\"\n",
    "select cname,pname,review  from customer_details where Year(rdate)='2019';\n",
    "\"\"\"\n",
    "connection=create_db_connection(\"localhost\",\"root\",pw,db)\n",
    "result1=read_query(connection,q15 )\n",
    "print('product review in the year of 2019')\n",
    "for result in result1:\n",
    "\tprint(result)\t\n"
   ]
  },
  {
   "cell_type": "code",
   "execution_count": 21,
   "metadata": {},
   "outputs": [
    {
     "name": "stdout",
     "output_type": "stream",
     "text": [
      "product review in the year of 2020\n",
      "('balu', 'watch', 4)\n",
      "('megha', 'mask', 2)\n",
      "('karuna', 'watch', 3)\n",
      "('pallavi', 'mask', 5)\n",
      "('ravi', 'mask', 5)\n",
      "('vamsi', 'perfume', 3)\n",
      "('ramesh', 'perfume', 5)\n",
      "('lahari', 'mask', 4)\n",
      "('abhi', 'mask', 1)\n",
      "('anshu', 'sanitizer', 4)\n"
     ]
    }
   ],
   "source": [
    "q16=\"\"\"\n",
    "select cname,pname,review  from customer_details where Year(rdate)='2020';\n",
    "\"\"\"\n",
    "connection=create_db_connection(\"localhost\",\"root\",pw,db)\n",
    "result1=read_query(connection,q16 )\n",
    "print('product review in the year of 2020')\n",
    "for result in result1:\n",
    "\tprint(result)\t"
   ]
  },
  {
   "cell_type": "code",
   "execution_count": null,
   "metadata": {},
   "outputs": [],
   "source": []
  },
  {
   "cell_type": "code",
   "execution_count": null,
   "metadata": {},
   "outputs": [],
   "source": []
  }
 ],
 "metadata": {
  "kernelspec": {
   "display_name": "Python 3",
   "language": "python",
   "name": "python3"
  },
  "language_info": {
   "codemirror_mode": {
    "name": "ipython",
    "version": 3
   },
   "file_extension": ".py",
   "mimetype": "text/x-python",
   "name": "python",
   "nbconvert_exporter": "python",
   "pygments_lexer": "ipython3",
   "version": "3.8.3"
  }
 },
 "nbformat": 4,
 "nbformat_minor": 4
}
